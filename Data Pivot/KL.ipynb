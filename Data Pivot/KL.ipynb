{
 "cells": [
  {
   "cell_type": "code",
   "execution_count": 2,
   "metadata": {},
   "outputs": [],
   "source": [
    "import csv\n",
    "import pandas as pd\n",
    "\n",
    "data = pd.read_csv('2.csv', na_values=['NA']) #open csv\n",
    "\n",
    "data = pd.DataFrame(data) #creating dataframe to work with"
   ]
  },
  {
   "cell_type": "code",
   "execution_count": 3,
   "metadata": {},
   "outputs": [
    {
     "data": {
      "text/html": [
       "<div>\n",
       "<style scoped>\n",
       "    .dataframe tbody tr th:only-of-type {\n",
       "        vertical-align: middle;\n",
       "    }\n",
       "\n",
       "    .dataframe tbody tr th {\n",
       "        vertical-align: top;\n",
       "    }\n",
       "\n",
       "    .dataframe thead th {\n",
       "        text-align: right;\n",
       "    }\n",
       "</style>\n",
       "<table border=\"1\" class=\"dataframe\">\n",
       "  <thead>\n",
       "    <tr style=\"text-align: right;\">\n",
       "      <th></th>\n",
       "      <th></th>\n",
       "      <th>Месяц</th>\n",
       "      <th>1</th>\n",
       "      <th>2</th>\n",
       "      <th>3</th>\n",
       "      <th>4</th>\n",
       "      <th>5</th>\n",
       "      <th>6</th>\n",
       "    </tr>\n",
       "    <tr>\n",
       "      <th>ID</th>\n",
       "      <th>Имя</th>\n",
       "      <th>Год</th>\n",
       "      <th></th>\n",
       "      <th></th>\n",
       "      <th></th>\n",
       "      <th></th>\n",
       "      <th></th>\n",
       "      <th></th>\n",
       "    </tr>\n",
       "  </thead>\n",
       "  <tbody>\n",
       "    <tr>\n",
       "      <th>1</th>\n",
       "      <th>Иван петрович</th>\n",
       "      <th>2018</th>\n",
       "      <td>0</td>\n",
       "      <td>0</td>\n",
       "      <td>0</td>\n",
       "      <td>1</td>\n",
       "      <td>1</td>\n",
       "      <td>1</td>\n",
       "    </tr>\n",
       "    <tr>\n",
       "      <th>2</th>\n",
       "      <th>Петр Иванович</th>\n",
       "      <th>2018</th>\n",
       "      <td>0</td>\n",
       "      <td>0</td>\n",
       "      <td>0</td>\n",
       "      <td>0</td>\n",
       "      <td>0</td>\n",
       "      <td>0</td>\n",
       "    </tr>\n",
       "  </tbody>\n",
       "</table>\n",
       "</div>"
      ],
      "text/plain": [
       "Месяц                  1  2  3  4  5  6\n",
       "ID Имя           Год                   \n",
       "1  Иван петрович 2018  0  0  0  1  1  1\n",
       "2  Петр Иванович 2018  0  0  0  0  0  0"
      ]
     },
     "execution_count": 3,
     "metadata": {},
     "output_type": "execute_result"
    }
   ],
   "source": [
    "data.pivot_table(index = ['ID', 'Имя', 'Год'], columns='Месяц', values='Уволен', fill_value= 2, dropna=True)\n",
    "\n",
    "#creating pivot_table to manipulate its values (setting multiple vertical indexes and a horizontal one, filling NaN values with )"
   ]
  },
  {
   "cell_type": "code",
   "execution_count": 4,
   "metadata": {},
   "outputs": [
    {
     "data": {
      "text/html": [
       "<style  type=\"text/css\" >\n",
       "    #T_4a88265c_2022_11e9_a900_f8281989f20arow0_col0 {\n",
       "            background-color:  None;\n",
       "        }    #T_4a88265c_2022_11e9_a900_f8281989f20arow0_col1 {\n",
       "            background-color:  None;\n",
       "        }    #T_4a88265c_2022_11e9_a900_f8281989f20arow0_col2 {\n",
       "            background-color:  None;\n",
       "        }    #T_4a88265c_2022_11e9_a900_f8281989f20arow0_col3 {\n",
       "            background-color:  red;\n",
       "        }    #T_4a88265c_2022_11e9_a900_f8281989f20arow0_col4 {\n",
       "            background-color:  red;\n",
       "        }    #T_4a88265c_2022_11e9_a900_f8281989f20arow0_col5 {\n",
       "            background-color:  red;\n",
       "        }    #T_4a88265c_2022_11e9_a900_f8281989f20arow1_col0 {\n",
       "            background-color:  None;\n",
       "        }    #T_4a88265c_2022_11e9_a900_f8281989f20arow1_col1 {\n",
       "            background-color:  None;\n",
       "        }    #T_4a88265c_2022_11e9_a900_f8281989f20arow1_col2 {\n",
       "            background-color:  None;\n",
       "        }    #T_4a88265c_2022_11e9_a900_f8281989f20arow1_col3 {\n",
       "            background-color:  None;\n",
       "        }    #T_4a88265c_2022_11e9_a900_f8281989f20arow1_col4 {\n",
       "            background-color:  None;\n",
       "        }    #T_4a88265c_2022_11e9_a900_f8281989f20arow1_col5 {\n",
       "            background-color:  None;\n",
       "        }</style>  \n",
       "<table id=\"T_4a88265c_2022_11e9_a900_f8281989f20a\" > \n",
       "<thead>    <tr> \n",
       "        <th class=\"blank\" ></th> \n",
       "        <th class=\"blank\" ></th> \n",
       "        <th class=\"index_name level0\" >Месяц</th> \n",
       "        <th class=\"col_heading level0 col0\" >1</th> \n",
       "        <th class=\"col_heading level0 col1\" >2</th> \n",
       "        <th class=\"col_heading level0 col2\" >3</th> \n",
       "        <th class=\"col_heading level0 col3\" >4</th> \n",
       "        <th class=\"col_heading level0 col4\" >5</th> \n",
       "        <th class=\"col_heading level0 col5\" >6</th> \n",
       "    </tr>    <tr> \n",
       "        <th class=\"index_name level0\" >ID</th> \n",
       "        <th class=\"index_name level1\" >Имя</th> \n",
       "        <th class=\"index_name level2\" >Год</th> \n",
       "        <th class=\"blank\" ></th> \n",
       "        <th class=\"blank\" ></th> \n",
       "        <th class=\"blank\" ></th> \n",
       "        <th class=\"blank\" ></th> \n",
       "        <th class=\"blank\" ></th> \n",
       "        <th class=\"blank\" ></th> \n",
       "    </tr></thead> \n",
       "<tbody>    <tr> \n",
       "        <th id=\"T_4a88265c_2022_11e9_a900_f8281989f20alevel0_row0\" class=\"row_heading level0 row0\" >1</th> \n",
       "        <th id=\"T_4a88265c_2022_11e9_a900_f8281989f20alevel1_row0\" class=\"row_heading level1 row0\" >Иван петрович</th> \n",
       "        <th id=\"T_4a88265c_2022_11e9_a900_f8281989f20alevel2_row0\" class=\"row_heading level2 row0\" >2018</th> \n",
       "        <td id=\"T_4a88265c_2022_11e9_a900_f8281989f20arow0_col0\" class=\"data row0 col0\" >0</td> \n",
       "        <td id=\"T_4a88265c_2022_11e9_a900_f8281989f20arow0_col1\" class=\"data row0 col1\" >0</td> \n",
       "        <td id=\"T_4a88265c_2022_11e9_a900_f8281989f20arow0_col2\" class=\"data row0 col2\" >0</td> \n",
       "        <td id=\"T_4a88265c_2022_11e9_a900_f8281989f20arow0_col3\" class=\"data row0 col3\" >1</td> \n",
       "        <td id=\"T_4a88265c_2022_11e9_a900_f8281989f20arow0_col4\" class=\"data row0 col4\" >1</td> \n",
       "        <td id=\"T_4a88265c_2022_11e9_a900_f8281989f20arow0_col5\" class=\"data row0 col5\" >1</td> \n",
       "    </tr>    <tr> \n",
       "        <th id=\"T_4a88265c_2022_11e9_a900_f8281989f20alevel0_row1\" class=\"row_heading level0 row1\" >2</th> \n",
       "        <th id=\"T_4a88265c_2022_11e9_a900_f8281989f20alevel1_row1\" class=\"row_heading level1 row1\" >Петр Иванович</th> \n",
       "        <th id=\"T_4a88265c_2022_11e9_a900_f8281989f20alevel2_row1\" class=\"row_heading level2 row1\" >2018</th> \n",
       "        <td id=\"T_4a88265c_2022_11e9_a900_f8281989f20arow1_col0\" class=\"data row1 col0\" >0</td> \n",
       "        <td id=\"T_4a88265c_2022_11e9_a900_f8281989f20arow1_col1\" class=\"data row1 col1\" >0</td> \n",
       "        <td id=\"T_4a88265c_2022_11e9_a900_f8281989f20arow1_col2\" class=\"data row1 col2\" >0</td> \n",
       "        <td id=\"T_4a88265c_2022_11e9_a900_f8281989f20arow1_col3\" class=\"data row1 col3\" >0</td> \n",
       "        <td id=\"T_4a88265c_2022_11e9_a900_f8281989f20arow1_col4\" class=\"data row1 col4\" >0</td> \n",
       "        <td id=\"T_4a88265c_2022_11e9_a900_f8281989f20arow1_col5\" class=\"data row1 col5\" >0</td> \n",
       "    </tr></tbody> \n",
       "</table> "
      ],
      "text/plain": [
       "<pandas.io.formats.style.Styler at 0x19440962080>"
      ]
     },
     "execution_count": 4,
     "metadata": {},
     "output_type": "execute_result"
    }
   ],
   "source": [
    "def color_red(values):\n",
    "    color = 'red' if values == 1 else None\n",
    "    return 'background-color: %s' % color\n",
    "    \n",
    "data.pivot_table(index = ['ID', 'Имя', 'Год'], columns='Месяц', values='Уволен', fill_value= 1, dropna=True).style.applymap(color_red)"
   ]
  },
  {
   "cell_type": "code",
   "execution_count": null,
   "metadata": {},
   "outputs": [],
   "source": []
  }
 ],
 "metadata": {
  "kernelspec": {
   "display_name": "Python 3",
   "language": "python",
   "name": "python3"
  },
  "language_info": {
   "codemirror_mode": {
    "name": "ipython",
    "version": 3
   },
   "file_extension": ".py",
   "mimetype": "text/x-python",
   "name": "python",
   "nbconvert_exporter": "python",
   "pygments_lexer": "ipython3",
   "version": "3.6.5"
  }
 },
 "nbformat": 4,
 "nbformat_minor": 2
}
