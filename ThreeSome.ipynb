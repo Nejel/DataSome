{
 "cells": [
  {
   "cell_type": "code",
   "execution_count": 197,
   "metadata": {},
   "outputs": [],
   "source": [
    "import tensorflow as tf\n",
    "from sklearn.model_selection import train_test_split\n",
    "import numpy as np\n",
    "import pandas as pd\n",
    "import matplotlib.pyplot as plt\n",
    "import matplotlib\n",
    "%matplotlib inline"
   ]
  },
  {
   "cell_type": "code",
   "execution_count": 198,
   "metadata": {
    "scrolled": true
   },
   "outputs": [
    {
     "data": {
      "text/html": [
       "<div>\n",
       "<style scoped>\n",
       "    .dataframe tbody tr th:only-of-type {\n",
       "        vertical-align: middle;\n",
       "    }\n",
       "\n",
       "    .dataframe tbody tr th {\n",
       "        vertical-align: top;\n",
       "    }\n",
       "\n",
       "    .dataframe thead th {\n",
       "        text-align: right;\n",
       "    }\n",
       "</style>\n",
       "<table border=\"1\" class=\"dataframe\">\n",
       "  <thead>\n",
       "    <tr style=\"text-align: right;\">\n",
       "      <th></th>\n",
       "      <th>userid</th>\n",
       "      <th>gradeto</th>\n",
       "      <th>subfamilynameto</th>\n",
       "      <th>corporatetitleto</th>\n",
       "      <th>eventto</th>\n",
       "      <th>fired</th>\n",
       "      <th>fullpathto</th>\n",
       "      <th>deptto</th>\n",
       "      <th>topdeptto</th>\n",
       "      <th>regionto</th>\n",
       "      <th>agefake</th>\n",
       "      <th>classfake</th>\n",
       "      <th>groupfake</th>\n",
       "    </tr>\n",
       "  </thead>\n",
       "  <tbody>\n",
       "    <tr>\n",
       "      <th>0</th>\n",
       "      <td>1000</td>\n",
       "      <td>15</td>\n",
       "      <td>Product Marketing</td>\n",
       "      <td>VP Product Marketing</td>\n",
       "      <td>Data Change</td>\n",
       "      <td>0</td>\n",
       "      <td>ProdMkt</td>\n",
       "      <td>Product Marketing</td>\n",
       "      <td>ProdMkt</td>\n",
       "      <td>Russia</td>\n",
       "      <td>77</td>\n",
       "      <td>1</td>\n",
       "      <td>A</td>\n",
       "    </tr>\n",
       "    <tr>\n",
       "      <th>1</th>\n",
       "      <td>10000</td>\n",
       "      <td>10</td>\n",
       "      <td>Software Engineering</td>\n",
       "      <td>Senior Developer</td>\n",
       "      <td>Data Change</td>\n",
       "      <td>0</td>\n",
       "      <td>FutureTechSecPlat</td>\n",
       "      <td>Secure Platform Development</td>\n",
       "      <td>FutureTech</td>\n",
       "      <td>Russia</td>\n",
       "      <td>77</td>\n",
       "      <td>1</td>\n",
       "      <td>A</td>\n",
       "    </tr>\n",
       "    <tr>\n",
       "      <th>2</th>\n",
       "      <td>10001</td>\n",
       "      <td>10</td>\n",
       "      <td>Software Engineering</td>\n",
       "      <td>Senior Research Developer</td>\n",
       "      <td>Transfer</td>\n",
       "      <td>0</td>\n",
       "      <td>R&amp;DPDOLinuxKICSNetwIndPDK</td>\n",
       "      <td>KICS for Networks Industrial PDK</td>\n",
       "      <td>PDO</td>\n",
       "      <td>Russia</td>\n",
       "      <td>77</td>\n",
       "      <td>1</td>\n",
       "      <td>A</td>\n",
       "    </tr>\n",
       "    <tr>\n",
       "      <th>3</th>\n",
       "      <td>10002</td>\n",
       "      <td>7</td>\n",
       "      <td>Test Engineering R&amp;D</td>\n",
       "      <td>Testing Engineer</td>\n",
       "      <td>Data Change</td>\n",
       "      <td>0</td>\n",
       "      <td>R&amp;DIDOIntDevPlatform</td>\n",
       "      <td>Platform Development</td>\n",
       "      <td>IDO</td>\n",
       "      <td>Russia</td>\n",
       "      <td>77</td>\n",
       "      <td>1</td>\n",
       "      <td>A</td>\n",
       "    </tr>\n",
       "    <tr>\n",
       "      <th>4</th>\n",
       "      <td>10003</td>\n",
       "      <td>9</td>\n",
       "      <td>Software Engineering</td>\n",
       "      <td>Developer</td>\n",
       "      <td>Data Change</td>\n",
       "      <td>0</td>\n",
       "      <td>InIPA</td>\n",
       "      <td>Privacy Audit</td>\n",
       "      <td>InI</td>\n",
       "      <td>Russia</td>\n",
       "      <td>77</td>\n",
       "      <td>1</td>\n",
       "      <td>A</td>\n",
       "    </tr>\n",
       "  </tbody>\n",
       "</table>\n",
       "</div>"
      ],
      "text/plain": [
       "   userid  gradeto       subfamilynameto           corporatetitleto  \\\n",
       "0    1000       15     Product Marketing       VP Product Marketing   \n",
       "1   10000       10  Software Engineering           Senior Developer   \n",
       "2   10001       10  Software Engineering  Senior Research Developer   \n",
       "3   10002        7  Test Engineering R&D           Testing Engineer   \n",
       "4   10003        9  Software Engineering                  Developer   \n",
       "\n",
       "       eventto  fired                 fullpathto  \\\n",
       "0  Data Change      0                    ProdMkt   \n",
       "1  Data Change      0          FutureTechSecPlat   \n",
       "2     Transfer      0  R&DPDOLinuxKICSNetwIndPDK   \n",
       "3  Data Change      0       R&DIDOIntDevPlatform   \n",
       "4  Data Change      0                      InIPA   \n",
       "\n",
       "                             deptto   topdeptto regionto  agefake  classfake  \\\n",
       "0                 Product Marketing     ProdMkt   Russia       77          1   \n",
       "1       Secure Platform Development  FutureTech   Russia       77          1   \n",
       "2  KICS for Networks Industrial PDK         PDO   Russia       77          1   \n",
       "3              Platform Development         IDO   Russia       77          1   \n",
       "4                     Privacy Audit         InI   Russia       77          1   \n",
       "\n",
       "  groupfake  \n",
       "0         A  \n",
       "1         A  \n",
       "2         A  \n",
       "3         A  \n",
       "4         A  "
      ]
     },
     "execution_count": 198,
     "metadata": {},
     "output_type": "execute_result"
    }
   ],
   "source": [
    "data = pd.read_csv('pretest6.csv', sep=';')\n",
    "data.head()"
   ]
  },
  {
   "cell_type": "code",
   "execution_count": 199,
   "metadata": {},
   "outputs": [
    {
     "data": {
      "text/plain": [
       "Index(['userid', 'gradeto', 'subfamilynameto', 'corporatetitleto', 'eventto',\n",
       "       'fired', 'fullpathto', 'deptto', 'topdeptto', 'regionto', 'agefake',\n",
       "       'classfake', 'groupfake'],\n",
       "      dtype='object')"
      ]
     },
     "execution_count": 199,
     "metadata": {},
     "output_type": "execute_result"
    }
   ],
   "source": [
    "data.columns"
   ]
  },
  {
   "cell_type": "code",
   "execution_count": 200,
   "metadata": {},
   "outputs": [],
   "source": [
    "cols_to_norm = ['userid','gradeto']"
   ]
  },
  {
   "cell_type": "code",
   "execution_count": 201,
   "metadata": {},
   "outputs": [],
   "source": [
    "data[cols_to_norm] = data[cols_to_norm].apply(lambda x: (x - x.min()) / (x.max() - x.min() ))"
   ]
  },
  {
   "cell_type": "code",
   "execution_count": 202,
   "metadata": {},
   "outputs": [],
   "source": [
    "feat_userid = tf.feature_column.numeric_column('userid')\n",
    "feat_gradeto = tf.feature_column.numeric_column('gradeto')\n",
    "feat_subfamilynameto = tf.feature_column.categorical_column_with_hash_bucket('subfamilynameto',hash_bucket_size=110)\n",
    "feat_corporatetitleto = tf.feature_column.categorical_column_with_hash_bucket('corporatetitleto',hash_bucket_size=2050)\n",
    "feat_eventto = tf.feature_column.categorical_column_with_hash_bucket('eventto',hash_bucket_size=25)\n",
    "feat_fullpathto = tf.feature_column.categorical_column_with_hash_bucket('fullpathto',hash_bucket_size=2200)\n",
    "feat_deptto = tf.feature_column.categorical_column_with_hash_bucket('deptto',hash_bucket_size=1450)\n",
    "feat_topdeptto = tf.feature_column.categorical_column_with_hash_bucket('topdeptto',hash_bucket_size=150)\n",
    "feat_regionto = tf.feature_column.categorical_column_with_hash_bucket('regionto',hash_bucket_size=20)\n",
    "#feat_fired = tf.feature_column.numeric_column('fired')"
   ]
  },
  {
   "cell_type": "code",
   "execution_count": 203,
   "metadata": {},
   "outputs": [],
   "source": [
    "feat_cols = [feat_userid,feat_gradeto,feat_subfamilynameto,feat_corporatetitleto,feat_eventto,feat_fullpathto,feat_deptto,feat_topdeptto,feat_regionto,]"
   ]
  },
  {
   "cell_type": "code",
   "execution_count": 204,
   "metadata": {},
   "outputs": [
    {
     "data": {
      "text/html": [
       "<div>\n",
       "<style scoped>\n",
       "    .dataframe tbody tr th:only-of-type {\n",
       "        vertical-align: middle;\n",
       "    }\n",
       "\n",
       "    .dataframe tbody tr th {\n",
       "        vertical-align: top;\n",
       "    }\n",
       "\n",
       "    .dataframe thead th {\n",
       "        text-align: right;\n",
       "    }\n",
       "</style>\n",
       "<table border=\"1\" class=\"dataframe\">\n",
       "  <thead>\n",
       "    <tr style=\"text-align: right;\">\n",
       "      <th></th>\n",
       "      <th>userid</th>\n",
       "      <th>gradeto</th>\n",
       "      <th>subfamilynameto</th>\n",
       "      <th>corporatetitleto</th>\n",
       "      <th>eventto</th>\n",
       "      <th>fullpathto</th>\n",
       "      <th>deptto</th>\n",
       "      <th>topdeptto</th>\n",
       "      <th>regionto</th>\n",
       "      <th>agefake</th>\n",
       "      <th>classfake</th>\n",
       "      <th>groupfake</th>\n",
       "    </tr>\n",
       "  </thead>\n",
       "  <tbody>\n",
       "    <tr>\n",
       "      <th>0</th>\n",
       "      <td>0.000443</td>\n",
       "      <td>1.000000</td>\n",
       "      <td>Product Marketing</td>\n",
       "      <td>VP Product Marketing</td>\n",
       "      <td>Data Change</td>\n",
       "      <td>ProdMkt</td>\n",
       "      <td>Product Marketing</td>\n",
       "      <td>ProdMkt</td>\n",
       "      <td>Russia</td>\n",
       "      <td>77</td>\n",
       "      <td>1</td>\n",
       "      <td>A</td>\n",
       "    </tr>\n",
       "    <tr>\n",
       "      <th>1</th>\n",
       "      <td>0.997342</td>\n",
       "      <td>0.666667</td>\n",
       "      <td>Software Engineering</td>\n",
       "      <td>Senior Developer</td>\n",
       "      <td>Data Change</td>\n",
       "      <td>FutureTechSecPlat</td>\n",
       "      <td>Secure Platform Development</td>\n",
       "      <td>FutureTech</td>\n",
       "      <td>Russia</td>\n",
       "      <td>77</td>\n",
       "      <td>1</td>\n",
       "      <td>A</td>\n",
       "    </tr>\n",
       "    <tr>\n",
       "      <th>2</th>\n",
       "      <td>0.997452</td>\n",
       "      <td>0.666667</td>\n",
       "      <td>Software Engineering</td>\n",
       "      <td>Senior Research Developer</td>\n",
       "      <td>Transfer</td>\n",
       "      <td>R&amp;DPDOLinuxKICSNetwIndPDK</td>\n",
       "      <td>KICS for Networks Industrial PDK</td>\n",
       "      <td>PDO</td>\n",
       "      <td>Russia</td>\n",
       "      <td>77</td>\n",
       "      <td>1</td>\n",
       "      <td>A</td>\n",
       "    </tr>\n",
       "    <tr>\n",
       "      <th>3</th>\n",
       "      <td>0.997563</td>\n",
       "      <td>0.466667</td>\n",
       "      <td>Test Engineering R&amp;D</td>\n",
       "      <td>Testing Engineer</td>\n",
       "      <td>Data Change</td>\n",
       "      <td>R&amp;DIDOIntDevPlatform</td>\n",
       "      <td>Platform Development</td>\n",
       "      <td>IDO</td>\n",
       "      <td>Russia</td>\n",
       "      <td>77</td>\n",
       "      <td>1</td>\n",
       "      <td>A</td>\n",
       "    </tr>\n",
       "    <tr>\n",
       "      <th>4</th>\n",
       "      <td>0.997674</td>\n",
       "      <td>0.600000</td>\n",
       "      <td>Software Engineering</td>\n",
       "      <td>Developer</td>\n",
       "      <td>Data Change</td>\n",
       "      <td>InIPA</td>\n",
       "      <td>Privacy Audit</td>\n",
       "      <td>InI</td>\n",
       "      <td>Russia</td>\n",
       "      <td>77</td>\n",
       "      <td>1</td>\n",
       "      <td>A</td>\n",
       "    </tr>\n",
       "  </tbody>\n",
       "</table>\n",
       "</div>"
      ],
      "text/plain": [
       "     userid   gradeto       subfamilynameto           corporatetitleto  \\\n",
       "0  0.000443  1.000000     Product Marketing       VP Product Marketing   \n",
       "1  0.997342  0.666667  Software Engineering           Senior Developer   \n",
       "2  0.997452  0.666667  Software Engineering  Senior Research Developer   \n",
       "3  0.997563  0.466667  Test Engineering R&D           Testing Engineer   \n",
       "4  0.997674  0.600000  Software Engineering                  Developer   \n",
       "\n",
       "       eventto                 fullpathto                            deptto  \\\n",
       "0  Data Change                    ProdMkt                 Product Marketing   \n",
       "1  Data Change          FutureTechSecPlat       Secure Platform Development   \n",
       "2     Transfer  R&DPDOLinuxKICSNetwIndPDK  KICS for Networks Industrial PDK   \n",
       "3  Data Change       R&DIDOIntDevPlatform              Platform Development   \n",
       "4  Data Change                      InIPA                     Privacy Audit   \n",
       "\n",
       "    topdeptto regionto  agefake  classfake groupfake  \n",
       "0     ProdMkt   Russia       77          1         A  \n",
       "1  FutureTech   Russia       77          1         A  \n",
       "2         PDO   Russia       77          1         A  \n",
       "3         IDO   Russia       77          1         A  \n",
       "4         InI   Russia       77          1         A  "
      ]
     },
     "execution_count": 204,
     "metadata": {},
     "output_type": "execute_result"
    }
   ],
   "source": [
    "x_data = data.drop('fired',axis=1) # надо понять зачем мы дропаем фичу, так как ниже возникает ошибка из-за этого\n",
    "x_data.head()"
   ]
  },
  {
   "cell_type": "code",
   "execution_count": 205,
   "metadata": {},
   "outputs": [],
   "source": [
    "labels = data['fired']"
   ]
  },
  {
   "cell_type": "code",
   "execution_count": 206,
   "metadata": {},
   "outputs": [],
   "source": [
    "X_train, X_test, y_train, y_test = train_test_split(x_data,labels, test_size=0.33, random_state=101)"
   ]
  },
  {
   "cell_type": "code",
   "execution_count": 207,
   "metadata": {},
   "outputs": [],
   "source": [
    "input_func = tf.estimator.inputs.pandas_input_fn(x=X_train,y=y_train,batch_size=100,num_epochs=1000,shuffle=True)"
   ]
  },
  {
   "cell_type": "code",
   "execution_count": 208,
   "metadata": {},
   "outputs": [
    {
     "name": "stdout",
     "output_type": "stream",
     "text": [
      "INFO:tensorflow:Using default config.\n",
      "WARNING:tensorflow:Using temporary folder as model directory: C:\\Users\\Alex\\AppData\\Local\\Temp\\tmp_w37ivpb\n",
      "INFO:tensorflow:Using config: {'_model_dir': 'C:\\\\Users\\\\Alex\\\\AppData\\\\Local\\\\Temp\\\\tmp_w37ivpb', '_tf_random_seed': None, '_save_summary_steps': 100, '_save_checkpoints_steps': None, '_save_checkpoints_secs': 600, '_session_config': allow_soft_placement: true\n",
      "graph_options {\n",
      "  rewrite_options {\n",
      "    meta_optimizer_iterations: ONE\n",
      "  }\n",
      "}\n",
      ", '_keep_checkpoint_max': 5, '_keep_checkpoint_every_n_hours': 10000, '_log_step_count_steps': 100, '_train_distribute': None, '_device_fn': None, '_protocol': None, '_eval_distribute': None, '_experimental_distribute': None, '_service': None, '_cluster_spec': <tensorflow.python.training.server_lib.ClusterSpec object at 0x0000015A11DEA080>, '_task_type': 'worker', '_task_id': 0, '_global_id_in_cluster': 0, '_master': '', '_evaluation_master': '', '_is_chief': True, '_num_ps_replicas': 0, '_num_worker_replicas': 1}\n"
     ]
    }
   ],
   "source": [
    "model = tf.estimator.LinearClassifier(feature_columns=feat_cols,n_classes=2)"
   ]
  },
  {
   "cell_type": "code",
   "execution_count": 209,
   "metadata": {},
   "outputs": [
    {
     "name": "stdout",
     "output_type": "stream",
     "text": [
      "INFO:tensorflow:Calling model_fn.\n",
      "INFO:tensorflow:Done calling model_fn.\n",
      "INFO:tensorflow:Create CheckpointSaverHook.\n",
      "INFO:tensorflow:Graph was finalized.\n",
      "INFO:tensorflow:Running local_init_op.\n",
      "INFO:tensorflow:Done running local_init_op.\n",
      "INFO:tensorflow:Saving checkpoints for 0 into C:\\Users\\Alex\\AppData\\Local\\Temp\\tmp_w37ivpb\\model.ckpt.\n",
      "INFO:tensorflow:loss = 69.31472, step = 1\n",
      "INFO:tensorflow:global_step/sec: 236.48\n",
      "INFO:tensorflow:loss = 2.2227178, step = 101 (0.424 sec)\n",
      "INFO:tensorflow:global_step/sec: 466.361\n",
      "INFO:tensorflow:loss = 1.2413304, step = 201 (0.214 sec)\n",
      "INFO:tensorflow:global_step/sec: 456.785\n",
      "INFO:tensorflow:loss = 0.6820797, step = 301 (0.219 sec)\n",
      "INFO:tensorflow:global_step/sec: 516.841\n",
      "INFO:tensorflow:loss = 0.56318355, step = 401 (0.193 sec)\n",
      "INFO:tensorflow:Saving checkpoints for 450 into C:\\Users\\Alex\\AppData\\Local\\Temp\\tmp_w37ivpb\\model.ckpt.\n",
      "INFO:tensorflow:Loss for final step: 0.8612195.\n"
     ]
    },
    {
     "data": {
      "text/plain": [
       "<tensorflow.python.estimator.canned.linear.LinearClassifier at 0x15a0e798f28>"
      ]
     },
     "execution_count": 209,
     "metadata": {},
     "output_type": "execute_result"
    }
   ],
   "source": [
    "model.train(input_fn=input_func,steps=1000)"
   ]
  },
  {
   "cell_type": "code",
   "execution_count": 210,
   "metadata": {},
   "outputs": [],
   "source": [
    "eval_input_func = tf.estimator.inputs.pandas_input_fn(x=X_test,y=y_test,batch_size=10,num_epochs=1,shuffle=False)"
   ]
  },
  {
   "cell_type": "code",
   "execution_count": 211,
   "metadata": {},
   "outputs": [
    {
     "name": "stdout",
     "output_type": "stream",
     "text": [
      "INFO:tensorflow:Calling model_fn.\n",
      "WARNING:tensorflow:Trapezoidal rule is known to produce incorrect PR-AUCs; please switch to \"careful_interpolation\" instead.\n",
      "WARNING:tensorflow:Trapezoidal rule is known to produce incorrect PR-AUCs; please switch to \"careful_interpolation\" instead.\n",
      "INFO:tensorflow:Done calling model_fn.\n",
      "INFO:tensorflow:Starting evaluation at 2018-11-03-18:55:07\n",
      "INFO:tensorflow:Graph was finalized.\n",
      "INFO:tensorflow:Restoring parameters from C:\\Users\\Alex\\AppData\\Local\\Temp\\tmp_w37ivpb\\model.ckpt-450\n",
      "INFO:tensorflow:Running local_init_op.\n",
      "INFO:tensorflow:Done running local_init_op.\n",
      "INFO:tensorflow:Finished evaluation at 2018-11-03-18:55:07\n",
      "INFO:tensorflow:Saving dict for global step 450: accuracy = 1.0, accuracy_baseline = 0.82608694, auc = 0.9999999, auc_precision_recall = 0.99999976, average_loss = 0.07104585, global_step = 450, label/mean = 0.17391305, loss = 0.5446849, precision = 1.0, prediction/mean = 0.15952869, recall = 1.0\n",
      "INFO:tensorflow:Saving 'checkpoint_path' summary for global step 450: C:\\Users\\Alex\\AppData\\Local\\Temp\\tmp_w37ivpb\\model.ckpt-450\n"
     ]
    }
   ],
   "source": [
    "results = model.evaluate(eval_input_func)"
   ]
  },
  {
   "cell_type": "code",
   "execution_count": 212,
   "metadata": {},
   "outputs": [
    {
     "data": {
      "text/plain": [
       "{'accuracy': 1.0,\n",
       " 'accuracy_baseline': 0.82608694,\n",
       " 'auc': 0.9999999,\n",
       " 'auc_precision_recall': 0.99999976,\n",
       " 'average_loss': 0.07104585,\n",
       " 'label/mean': 0.17391305,\n",
       " 'loss': 0.5446849,\n",
       " 'precision': 1.0,\n",
       " 'prediction/mean': 0.15952869,\n",
       " 'recall': 1.0,\n",
       " 'global_step': 450}"
      ]
     },
     "execution_count": 212,
     "metadata": {},
     "output_type": "execute_result"
    }
   ],
   "source": [
    "results"
   ]
  },
  {
   "cell_type": "code",
   "execution_count": 213,
   "metadata": {},
   "outputs": [],
   "source": [
    "pred_input_func = tf.estimator.inputs.pandas_input_fn(x=X_test,batch_size=10,num_epochs=1,shuffle=False)"
   ]
  },
  {
   "cell_type": "code",
   "execution_count": 214,
   "metadata": {},
   "outputs": [],
   "source": [
    "predictions = model.predict(pred_input_func)"
   ]
  },
  {
   "cell_type": "code",
   "execution_count": 215,
   "metadata": {},
   "outputs": [
    {
     "name": "stdout",
     "output_type": "stream",
     "text": [
      "INFO:tensorflow:Calling model_fn.\n",
      "INFO:tensorflow:Done calling model_fn.\n",
      "INFO:tensorflow:Graph was finalized.\n",
      "INFO:tensorflow:Restoring parameters from C:\\Users\\Alex\\AppData\\Local\\Temp\\tmp_w37ivpb\\model.ckpt-450\n",
      "INFO:tensorflow:Running local_init_op.\n",
      "INFO:tensorflow:Done running local_init_op.\n"
     ]
    }
   ],
   "source": [
    "my_pred = list(predictions)"
   ]
  },
  {
   "cell_type": "code",
   "execution_count": 216,
   "metadata": {},
   "outputs": [
    {
     "data": {
      "text/plain": [
       "[{'logits': array([-4.2500477], dtype=float32),\n",
       "  'logistic': array([0.01406297], dtype=float32),\n",
       "  'probabilities': array([0.98593706, 0.01406297], dtype=float32),\n",
       "  'class_ids': array([0], dtype=int64),\n",
       "  'classes': array([b'0'], dtype=object)},\n",
       " {'logits': array([0.04572296], dtype=float32),\n",
       "  'logistic': array([0.5114288], dtype=float32),\n",
       "  'probabilities': array([0.4885713, 0.5114288], dtype=float32),\n",
       "  'class_ids': array([1], dtype=int64),\n",
       "  'classes': array([b'1'], dtype=object)},\n",
       " {'logits': array([-3.7140894], dtype=float32),\n",
       "  'logistic': array([0.0237975], dtype=float32),\n",
       "  'probabilities': array([0.97620255, 0.0237975 ], dtype=float32),\n",
       "  'class_ids': array([0], dtype=int64),\n",
       "  'classes': array([b'0'], dtype=object)},\n",
       " {'logits': array([-4.6239433], dtype=float32),\n",
       "  'logistic': array([0.00971864], dtype=float32),\n",
       "  'probabilities': array([0.99028134, 0.00971864], dtype=float32),\n",
       "  'class_ids': array([0], dtype=int64),\n",
       "  'classes': array([b'0'], dtype=object)},\n",
       " {'logits': array([-2.2848432], dtype=float32),\n",
       "  'logistic': array([0.09238604], dtype=float32),\n",
       "  'probabilities': array([0.90761393, 0.09238604], dtype=float32),\n",
       "  'class_ids': array([0], dtype=int64),\n",
       "  'classes': array([b'0'], dtype=object)},\n",
       " {'logits': array([-4.0163355], dtype=float32),\n",
       "  'logistic': array([0.01769994], dtype=float32),\n",
       "  'probabilities': array([0.9823001 , 0.01769994], dtype=float32),\n",
       "  'class_ids': array([0], dtype=int64),\n",
       "  'classes': array([b'0'], dtype=object)},\n",
       " {'logits': array([-4.212472], dtype=float32),\n",
       "  'logistic': array([0.01459359], dtype=float32),\n",
       "  'probabilities': array([0.9854064 , 0.01459359], dtype=float32),\n",
       "  'class_ids': array([0], dtype=int64),\n",
       "  'classes': array([b'0'], dtype=object)},\n",
       " {'logits': array([-4.5798006], dtype=float32),\n",
       "  'logistic': array([0.0101528], dtype=float32),\n",
       "  'probabilities': array([0.98984724, 0.01015281], dtype=float32),\n",
       "  'class_ids': array([0], dtype=int64),\n",
       "  'classes': array([b'0'], dtype=object)},\n",
       " {'logits': array([-5.2553053], dtype=float32),\n",
       "  'logistic': array([0.00519265], dtype=float32),\n",
       "  'probabilities': array([0.9948074 , 0.00519265], dtype=float32),\n",
       "  'class_ids': array([0], dtype=int64),\n",
       "  'classes': array([b'0'], dtype=object)},\n",
       " {'logits': array([-1.2143017], dtype=float32),\n",
       "  'logistic': array([0.2289408], dtype=float32),\n",
       "  'probabilities': array([0.77105916, 0.2289408 ], dtype=float32),\n",
       "  'class_ids': array([0], dtype=int64),\n",
       "  'classes': array([b'0'], dtype=object)},\n",
       " {'logits': array([-4.5726137], dtype=float32),\n",
       "  'logistic': array([0.01022529], dtype=float32),\n",
       "  'probabilities': array([0.9897747 , 0.01022529], dtype=float32),\n",
       "  'class_ids': array([0], dtype=int64),\n",
       "  'classes': array([b'0'], dtype=object)},\n",
       " {'logits': array([-3.3461225], dtype=float32),\n",
       "  'logistic': array([0.03402236], dtype=float32),\n",
       "  'probabilities': array([0.96597767, 0.03402237], dtype=float32),\n",
       "  'class_ids': array([0], dtype=int64),\n",
       "  'classes': array([b'0'], dtype=object)},\n",
       " {'logits': array([-8.215235], dtype=float32),\n",
       "  'logistic': array([0.00027043], dtype=float32),\n",
       "  'probabilities': array([9.9972957e-01, 2.7042787e-04], dtype=float32),\n",
       "  'class_ids': array([0], dtype=int64),\n",
       "  'classes': array([b'0'], dtype=object)},\n",
       " {'logits': array([7.066182], dtype=float32),\n",
       "  'logistic': array([0.9991472], dtype=float32),\n",
       "  'probabilities': array([8.5275754e-04, 9.9914718e-01], dtype=float32),\n",
       "  'class_ids': array([1], dtype=int64),\n",
       "  'classes': array([b'1'], dtype=object)},\n",
       " {'logits': array([2.3585851], dtype=float32),\n",
       "  'logistic': array([0.91361415], dtype=float32),\n",
       "  'probabilities': array([0.08638579, 0.91361415], dtype=float32),\n",
       "  'class_ids': array([1], dtype=int64),\n",
       "  'classes': array([b'1'], dtype=object)},\n",
       " {'logits': array([-4.2881255], dtype=float32),\n",
       "  'logistic': array([0.01354466], dtype=float32),\n",
       "  'probabilities': array([0.9864553 , 0.01354466], dtype=float32),\n",
       "  'class_ids': array([0], dtype=int64),\n",
       "  'classes': array([b'0'], dtype=object)},\n",
       " {'logits': array([-5.977991], dtype=float32),\n",
       "  'logistic': array([0.00252751], dtype=float32),\n",
       "  'probabilities': array([0.99747247, 0.00252751], dtype=float32),\n",
       "  'class_ids': array([0], dtype=int64),\n",
       "  'classes': array([b'0'], dtype=object)},\n",
       " {'logits': array([-4.2529674], dtype=float32),\n",
       "  'logistic': array([0.01402254], dtype=float32),\n",
       "  'probabilities': array([0.9859774 , 0.01402254], dtype=float32),\n",
       "  'class_ids': array([0], dtype=int64),\n",
       "  'classes': array([b'0'], dtype=object)},\n",
       " {'logits': array([-6.7618904], dtype=float32),\n",
       "  'logistic': array([0.0011557], dtype=float32),\n",
       "  'probabilities': array([0.99884427, 0.0011557 ], dtype=float32),\n",
       "  'class_ids': array([0], dtype=int64),\n",
       "  'classes': array([b'0'], dtype=object)},\n",
       " {'logits': array([-4.7979984], dtype=float32),\n",
       "  'logistic': array([0.00817879], dtype=float32),\n",
       "  'probabilities': array([0.9918213 , 0.00817879], dtype=float32),\n",
       "  'class_ids': array([0], dtype=int64),\n",
       "  'classes': array([b'0'], dtype=object)},\n",
       " {'logits': array([-4.442729], dtype=float32),\n",
       "  'logistic': array([0.01162701], dtype=float32),\n",
       "  'probabilities': array([0.988373  , 0.01162701], dtype=float32),\n",
       "  'class_ids': array([0], dtype=int64),\n",
       "  'classes': array([b'0'], dtype=object)},\n",
       " {'logits': array([0.9833021], dtype=float32),\n",
       "  'logistic': array([0.72776294], dtype=float32),\n",
       "  'probabilities': array([0.27223706, 0.72776294], dtype=float32),\n",
       "  'class_ids': array([1], dtype=int64),\n",
       "  'classes': array([b'1'], dtype=object)},\n",
       " {'logits': array([-5.275917], dtype=float32),\n",
       "  'logistic': array([0.00508725], dtype=float32),\n",
       "  'probabilities': array([0.99491274, 0.00508725], dtype=float32),\n",
       "  'class_ids': array([0], dtype=int64),\n",
       "  'classes': array([b'0'], dtype=object)}]"
      ]
     },
     "execution_count": 216,
     "metadata": {},
     "output_type": "execute_result"
    }
   ],
   "source": [
    "my_pred"
   ]
  },
  {
   "cell_type": "code",
   "execution_count": null,
   "metadata": {},
   "outputs": [],
   "source": []
  }
 ],
 "metadata": {
  "kernelspec": {
   "display_name": "Python 3",
   "language": "python",
   "name": "python3"
  },
  "language_info": {
   "codemirror_mode": {
    "name": "ipython",
    "version": 3
   },
   "file_extension": ".py",
   "mimetype": "text/x-python",
   "name": "python",
   "nbconvert_exporter": "python",
   "pygments_lexer": "ipython3",
   "version": "3.6.5"
  }
 },
 "nbformat": 4,
 "nbformat_minor": 2
}
